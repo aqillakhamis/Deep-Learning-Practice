{
  "nbformat": 4,
  "nbformat_minor": 0,
  "metadata": {
    "colab": {
      "name": "Neural-Network.ipynb",
      "provenance": [],
      "collapsed_sections": [],
      "authorship_tag": "ABX9TyP1GCHV3ZvR7EKRa9FpaiHK",
      "include_colab_link": true
    },
    "kernelspec": {
      "name": "python3",
      "display_name": "Python 3"
    },
    "accelerator": "GPU"
  },
  "cells": [
    {
      "cell_type": "markdown",
      "metadata": {
        "id": "view-in-github",
        "colab_type": "text"
      },
      "source": [
        "<a href=\"https://colab.research.google.com/github/aqillakhamis/Deep-Learning-Practice/blob/master/Neural_Network.ipynb\" target=\"_parent\"><img src=\"https://colab.research.google.com/assets/colab-badge.svg\" alt=\"Open In Colab\"/></a>"
      ]
    },
    {
      "cell_type": "markdown",
      "metadata": {
        "id": "fbDG4a262owU",
        "colab_type": "text"
      },
      "source": [
        "#**Build Neural Network Model using Keras Framework**\n",
        "\n",
        "Mobile Price Classification"
      ]
    },
    {
      "cell_type": "markdown",
      "metadata": {
        "id": "63Ml_-3V2lO7",
        "colab_type": "text"
      },
      "source": [
        "## Import Dependent Libraries"
      ]
    },
    {
      "cell_type": "code",
      "metadata": {
        "id": "B9nq5Cx-4Z8V",
        "colab_type": "code",
        "colab": {}
      },
      "source": [
        "#Dependencies \n",
        "import numpy as np \n",
        "import pandas as pd \n",
        "import matplotlib.pyplot as plt\n",
        "\n",
        "from sklearn.preprocessing import StandardScaler, OneHotEncoder\n",
        "from sklearn.model_selection import train_test_split\n",
        "from sklearn.metrics import accuracy_score"
      ],
      "execution_count": 0,
      "outputs": []
    },
    {
      "cell_type": "markdown",
      "metadata": {
        "id": "WdXO84HG6c8_",
        "colab_type": "text"
      },
      "source": [
        "## Import Dataset"
      ]
    },
    {
      "cell_type": "code",
      "metadata": {
        "id": "28NxqNhT4f2I",
        "colab_type": "code",
        "colab": {
          "base_uri": "https://localhost:8080/",
          "height": 375
        },
        "outputId": "4c62a469-0605-40ae-b005-63b794d61bdf"
      },
      "source": [
        "dataset = pd.read_csv('data/train.csv')\n",
        "dataset.head(10)"
      ],
      "execution_count": 4,
      "outputs": [
        {
          "output_type": "execute_result",
          "data": {
            "text/html": [
              "<div>\n",
              "<style scoped>\n",
              "    .dataframe tbody tr th:only-of-type {\n",
              "        vertical-align: middle;\n",
              "    }\n",
              "\n",
              "    .dataframe tbody tr th {\n",
              "        vertical-align: top;\n",
              "    }\n",
              "\n",
              "    .dataframe thead th {\n",
              "        text-align: right;\n",
              "    }\n",
              "</style>\n",
              "<table border=\"1\" class=\"dataframe\">\n",
              "  <thead>\n",
              "    <tr style=\"text-align: right;\">\n",
              "      <th></th>\n",
              "      <th>battery_power</th>\n",
              "      <th>blue</th>\n",
              "      <th>clock_speed</th>\n",
              "      <th>dual_sim</th>\n",
              "      <th>fc</th>\n",
              "      <th>four_g</th>\n",
              "      <th>int_memory</th>\n",
              "      <th>m_dep</th>\n",
              "      <th>mobile_wt</th>\n",
              "      <th>n_cores</th>\n",
              "      <th>pc</th>\n",
              "      <th>px_height</th>\n",
              "      <th>px_width</th>\n",
              "      <th>ram</th>\n",
              "      <th>sc_h</th>\n",
              "      <th>sc_w</th>\n",
              "      <th>talk_time</th>\n",
              "      <th>three_g</th>\n",
              "      <th>touch_screen</th>\n",
              "      <th>wifi</th>\n",
              "      <th>price_range</th>\n",
              "    </tr>\n",
              "  </thead>\n",
              "  <tbody>\n",
              "    <tr>\n",
              "      <th>0</th>\n",
              "      <td>842</td>\n",
              "      <td>0</td>\n",
              "      <td>2.2</td>\n",
              "      <td>0</td>\n",
              "      <td>1</td>\n",
              "      <td>0</td>\n",
              "      <td>7</td>\n",
              "      <td>0.6</td>\n",
              "      <td>188</td>\n",
              "      <td>2</td>\n",
              "      <td>2</td>\n",
              "      <td>20</td>\n",
              "      <td>756</td>\n",
              "      <td>2549</td>\n",
              "      <td>9</td>\n",
              "      <td>7</td>\n",
              "      <td>19</td>\n",
              "      <td>0</td>\n",
              "      <td>0</td>\n",
              "      <td>1</td>\n",
              "      <td>1</td>\n",
              "    </tr>\n",
              "    <tr>\n",
              "      <th>1</th>\n",
              "      <td>1021</td>\n",
              "      <td>1</td>\n",
              "      <td>0.5</td>\n",
              "      <td>1</td>\n",
              "      <td>0</td>\n",
              "      <td>1</td>\n",
              "      <td>53</td>\n",
              "      <td>0.7</td>\n",
              "      <td>136</td>\n",
              "      <td>3</td>\n",
              "      <td>6</td>\n",
              "      <td>905</td>\n",
              "      <td>1988</td>\n",
              "      <td>2631</td>\n",
              "      <td>17</td>\n",
              "      <td>3</td>\n",
              "      <td>7</td>\n",
              "      <td>1</td>\n",
              "      <td>1</td>\n",
              "      <td>0</td>\n",
              "      <td>2</td>\n",
              "    </tr>\n",
              "    <tr>\n",
              "      <th>2</th>\n",
              "      <td>563</td>\n",
              "      <td>1</td>\n",
              "      <td>0.5</td>\n",
              "      <td>1</td>\n",
              "      <td>2</td>\n",
              "      <td>1</td>\n",
              "      <td>41</td>\n",
              "      <td>0.9</td>\n",
              "      <td>145</td>\n",
              "      <td>5</td>\n",
              "      <td>6</td>\n",
              "      <td>1263</td>\n",
              "      <td>1716</td>\n",
              "      <td>2603</td>\n",
              "      <td>11</td>\n",
              "      <td>2</td>\n",
              "      <td>9</td>\n",
              "      <td>1</td>\n",
              "      <td>1</td>\n",
              "      <td>0</td>\n",
              "      <td>2</td>\n",
              "    </tr>\n",
              "    <tr>\n",
              "      <th>3</th>\n",
              "      <td>615</td>\n",
              "      <td>1</td>\n",
              "      <td>2.5</td>\n",
              "      <td>0</td>\n",
              "      <td>0</td>\n",
              "      <td>0</td>\n",
              "      <td>10</td>\n",
              "      <td>0.8</td>\n",
              "      <td>131</td>\n",
              "      <td>6</td>\n",
              "      <td>9</td>\n",
              "      <td>1216</td>\n",
              "      <td>1786</td>\n",
              "      <td>2769</td>\n",
              "      <td>16</td>\n",
              "      <td>8</td>\n",
              "      <td>11</td>\n",
              "      <td>1</td>\n",
              "      <td>0</td>\n",
              "      <td>0</td>\n",
              "      <td>2</td>\n",
              "    </tr>\n",
              "    <tr>\n",
              "      <th>4</th>\n",
              "      <td>1821</td>\n",
              "      <td>1</td>\n",
              "      <td>1.2</td>\n",
              "      <td>0</td>\n",
              "      <td>13</td>\n",
              "      <td>1</td>\n",
              "      <td>44</td>\n",
              "      <td>0.6</td>\n",
              "      <td>141</td>\n",
              "      <td>2</td>\n",
              "      <td>14</td>\n",
              "      <td>1208</td>\n",
              "      <td>1212</td>\n",
              "      <td>1411</td>\n",
              "      <td>8</td>\n",
              "      <td>2</td>\n",
              "      <td>15</td>\n",
              "      <td>1</td>\n",
              "      <td>1</td>\n",
              "      <td>0</td>\n",
              "      <td>1</td>\n",
              "    </tr>\n",
              "    <tr>\n",
              "      <th>5</th>\n",
              "      <td>1859</td>\n",
              "      <td>0</td>\n",
              "      <td>0.5</td>\n",
              "      <td>1</td>\n",
              "      <td>3</td>\n",
              "      <td>0</td>\n",
              "      <td>22</td>\n",
              "      <td>0.7</td>\n",
              "      <td>164</td>\n",
              "      <td>1</td>\n",
              "      <td>7</td>\n",
              "      <td>1004</td>\n",
              "      <td>1654</td>\n",
              "      <td>1067</td>\n",
              "      <td>17</td>\n",
              "      <td>1</td>\n",
              "      <td>10</td>\n",
              "      <td>1</td>\n",
              "      <td>0</td>\n",
              "      <td>0</td>\n",
              "      <td>1</td>\n",
              "    </tr>\n",
              "    <tr>\n",
              "      <th>6</th>\n",
              "      <td>1821</td>\n",
              "      <td>0</td>\n",
              "      <td>1.7</td>\n",
              "      <td>0</td>\n",
              "      <td>4</td>\n",
              "      <td>1</td>\n",
              "      <td>10</td>\n",
              "      <td>0.8</td>\n",
              "      <td>139</td>\n",
              "      <td>8</td>\n",
              "      <td>10</td>\n",
              "      <td>381</td>\n",
              "      <td>1018</td>\n",
              "      <td>3220</td>\n",
              "      <td>13</td>\n",
              "      <td>8</td>\n",
              "      <td>18</td>\n",
              "      <td>1</td>\n",
              "      <td>0</td>\n",
              "      <td>1</td>\n",
              "      <td>3</td>\n",
              "    </tr>\n",
              "    <tr>\n",
              "      <th>7</th>\n",
              "      <td>1954</td>\n",
              "      <td>0</td>\n",
              "      <td>0.5</td>\n",
              "      <td>1</td>\n",
              "      <td>0</td>\n",
              "      <td>0</td>\n",
              "      <td>24</td>\n",
              "      <td>0.8</td>\n",
              "      <td>187</td>\n",
              "      <td>4</td>\n",
              "      <td>0</td>\n",
              "      <td>512</td>\n",
              "      <td>1149</td>\n",
              "      <td>700</td>\n",
              "      <td>16</td>\n",
              "      <td>3</td>\n",
              "      <td>5</td>\n",
              "      <td>1</td>\n",
              "      <td>1</td>\n",
              "      <td>1</td>\n",
              "      <td>0</td>\n",
              "    </tr>\n",
              "    <tr>\n",
              "      <th>8</th>\n",
              "      <td>1445</td>\n",
              "      <td>1</td>\n",
              "      <td>0.5</td>\n",
              "      <td>0</td>\n",
              "      <td>0</td>\n",
              "      <td>0</td>\n",
              "      <td>53</td>\n",
              "      <td>0.7</td>\n",
              "      <td>174</td>\n",
              "      <td>7</td>\n",
              "      <td>14</td>\n",
              "      <td>386</td>\n",
              "      <td>836</td>\n",
              "      <td>1099</td>\n",
              "      <td>17</td>\n",
              "      <td>1</td>\n",
              "      <td>20</td>\n",
              "      <td>1</td>\n",
              "      <td>0</td>\n",
              "      <td>0</td>\n",
              "      <td>0</td>\n",
              "    </tr>\n",
              "    <tr>\n",
              "      <th>9</th>\n",
              "      <td>509</td>\n",
              "      <td>1</td>\n",
              "      <td>0.6</td>\n",
              "      <td>1</td>\n",
              "      <td>2</td>\n",
              "      <td>1</td>\n",
              "      <td>9</td>\n",
              "      <td>0.1</td>\n",
              "      <td>93</td>\n",
              "      <td>5</td>\n",
              "      <td>15</td>\n",
              "      <td>1137</td>\n",
              "      <td>1224</td>\n",
              "      <td>513</td>\n",
              "      <td>19</td>\n",
              "      <td>10</td>\n",
              "      <td>12</td>\n",
              "      <td>1</td>\n",
              "      <td>0</td>\n",
              "      <td>0</td>\n",
              "      <td>0</td>\n",
              "    </tr>\n",
              "  </tbody>\n",
              "</table>\n",
              "</div>"
            ],
            "text/plain": [
              "   battery_power  blue  clock_speed  ...  touch_screen  wifi  price_range\n",
              "0            842     0          2.2  ...             0     1            1\n",
              "1           1021     1          0.5  ...             1     0            2\n",
              "2            563     1          0.5  ...             1     0            2\n",
              "3            615     1          2.5  ...             0     0            2\n",
              "4           1821     1          1.2  ...             1     0            1\n",
              "5           1859     0          0.5  ...             0     0            1\n",
              "6           1821     0          1.7  ...             0     1            3\n",
              "7           1954     0          0.5  ...             1     1            0\n",
              "8           1445     1          0.5  ...             0     0            0\n",
              "9            509     1          0.6  ...             0     0            0\n",
              "\n",
              "[10 rows x 21 columns]"
            ]
          },
          "metadata": {
            "tags": []
          },
          "execution_count": 4
        }
      ]
    },
    {
      "cell_type": "code",
      "metadata": {
        "id": "fh2s_CDB6mnP",
        "colab_type": "code",
        "colab": {}
      },
      "source": [
        "#changing dataframe to numpy array \n",
        "X = dataset.iloc[:,:20].values  # features \n",
        "Y = dataset.iloc[:,20:21].values # classes "
      ],
      "execution_count": 0,
      "outputs": []
    },
    {
      "cell_type": "markdown",
      "metadata": {
        "id": "MQzq9VXe9gBE",
        "colab_type": "text"
      },
      "source": [
        "## Pre-Processing Dataset"
      ]
    },
    {
      "cell_type": "code",
      "metadata": {
        "id": "S3j3ebv762d-",
        "colab_type": "code",
        "colab": {}
      },
      "source": [
        "#normalizing the data \n",
        "#change value of an array to a common scale, without distorting differences in the ranges of values \n",
        "sc = StandardScaler()\n",
        "X = sc.fit_transform(X)"
      ],
      "execution_count": 0,
      "outputs": []
    },
    {
      "cell_type": "code",
      "metadata": {
        "id": "SQz-kF4T7bDT",
        "colab_type": "code",
        "colab": {}
      },
      "source": [
        "#one hot encoded - convert integer classes into binary values \n",
        "#(n, number of classes) \n",
        "#n = number of samples in dataset \n",
        "\n",
        "OHE = OneHotEncoder()\n",
        "Y = OHE.fit_transform(Y).toarray()"
      ],
      "execution_count": 0,
      "outputs": []
    },
    {
      "cell_type": "markdown",
      "metadata": {
        "id": "YXDRs0nq9oXI",
        "colab_type": "text"
      },
      "source": [
        "## Split the Dataset into Training and Testing"
      ]
    },
    {
      "cell_type": "code",
      "metadata": {
        "id": "RGFkKL-48lA5",
        "colab_type": "code",
        "colab": {}
      },
      "source": [
        "#train data = 90%\n",
        "#test data = 10%\n",
        "x_train, x_test, y_train, y_test = train_test_split(X, Y, test_size=0.1)"
      ],
      "execution_count": 0,
      "outputs": []
    },
    {
      "cell_type": "markdown",
      "metadata": {
        "id": "W3tHQdu5-EhG",
        "colab_type": "text"
      },
      "source": [
        "## Building Neural Network"
      ]
    },
    {
      "cell_type": "code",
      "metadata": {
        "id": "9-j3YOgX-OHH",
        "colab_type": "code",
        "colab": {
          "base_uri": "https://localhost:8080/",
          "height": 35
        },
        "outputId": "f0ee0cbd-06fc-4959-ac2d-6f4451b778e4"
      },
      "source": [
        "#Dependencies \n",
        "import keras\n",
        "from keras.models import Sequential\n",
        "from keras.layers import Dense\n",
        "\n",
        "#Neural Network Model \n",
        "model = Sequential()\n",
        "model.add(Dense(16, input_dim=20, activation='relu')) #hidden layer 1 = 16 neurons\n",
        "model.add(Dense(12, activation='relu')) #hidden layer 2 = 12 neurons \n",
        "model.add(Dense(4, activation='softmax')) #output layer 4 neurons \n",
        "\n",
        "#specify loss function and optimizer \n",
        "model.compile(loss='categorical_crossentropy', optimizer='adam', metrics=['accuracy'])"
      ],
      "execution_count": 9,
      "outputs": [
        {
          "output_type": "stream",
          "text": [
            "Using TensorFlow backend.\n"
          ],
          "name": "stderr"
        }
      ]
    },
    {
      "cell_type": "code",
      "metadata": {
        "id": "_RMsdd6gAf04",
        "colab_type": "code",
        "colab": {
          "base_uri": "https://localhost:8080/",
          "height": 1000
        },
        "outputId": "7688c580-59f5-4ca5-c966-70bf52cd39ad"
      },
      "source": [
        "history = model.fit(x_train, y_train, validation_data=(x_test,y_test), epochs=100, batch_size=64)"
      ],
      "execution_count": 10,
      "outputs": [
        {
          "output_type": "stream",
          "text": [
            "Epoch 1/100\n",
            "1800/1800 [==============================] - 2s 981us/step - loss: 1.5281 - accuracy: 0.2511\n",
            "Epoch 2/100\n",
            "1800/1800 [==============================] - 0s 40us/step - loss: 1.4277 - accuracy: 0.2772\n",
            "Epoch 3/100\n",
            "1800/1800 [==============================] - 0s 40us/step - loss: 1.3741 - accuracy: 0.3022\n",
            "Epoch 4/100\n",
            "1800/1800 [==============================] - 0s 40us/step - loss: 1.3307 - accuracy: 0.3367\n",
            "Epoch 5/100\n",
            "1800/1800 [==============================] - 0s 40us/step - loss: 1.2840 - accuracy: 0.4050\n",
            "Epoch 6/100\n",
            "1800/1800 [==============================] - 0s 40us/step - loss: 1.2269 - accuracy: 0.4544\n",
            "Epoch 7/100\n",
            "1800/1800 [==============================] - 0s 41us/step - loss: 1.1571 - accuracy: 0.4983\n",
            "Epoch 8/100\n",
            "1800/1800 [==============================] - 0s 42us/step - loss: 1.0740 - accuracy: 0.5433\n",
            "Epoch 9/100\n",
            "1800/1800 [==============================] - 0s 41us/step - loss: 0.9848 - accuracy: 0.5883\n",
            "Epoch 10/100\n",
            "1800/1800 [==============================] - 0s 42us/step - loss: 0.8938 - accuracy: 0.6328\n",
            "Epoch 11/100\n",
            "1800/1800 [==============================] - 0s 40us/step - loss: 0.8113 - accuracy: 0.6639\n",
            "Epoch 12/100\n",
            "1800/1800 [==============================] - 0s 43us/step - loss: 0.7393 - accuracy: 0.7089\n",
            "Epoch 13/100\n",
            "1800/1800 [==============================] - 0s 40us/step - loss: 0.6740 - accuracy: 0.7556\n",
            "Epoch 14/100\n",
            "1800/1800 [==============================] - 0s 41us/step - loss: 0.6176 - accuracy: 0.7933\n",
            "Epoch 15/100\n",
            "1800/1800 [==============================] - 0s 41us/step - loss: 0.5684 - accuracy: 0.8200\n",
            "Epoch 16/100\n",
            "1800/1800 [==============================] - 0s 40us/step - loss: 0.5249 - accuracy: 0.8483\n",
            "Epoch 17/100\n",
            "1800/1800 [==============================] - 0s 40us/step - loss: 0.4862 - accuracy: 0.8561\n",
            "Epoch 18/100\n",
            "1800/1800 [==============================] - 0s 39us/step - loss: 0.4507 - accuracy: 0.8783\n",
            "Epoch 19/100\n",
            "1800/1800 [==============================] - 0s 40us/step - loss: 0.4199 - accuracy: 0.8861\n",
            "Epoch 20/100\n",
            "1800/1800 [==============================] - 0s 41us/step - loss: 0.3926 - accuracy: 0.8983\n",
            "Epoch 21/100\n",
            "1800/1800 [==============================] - 0s 46us/step - loss: 0.3662 - accuracy: 0.9022\n",
            "Epoch 22/100\n",
            "1800/1800 [==============================] - 0s 40us/step - loss: 0.3437 - accuracy: 0.9111\n",
            "Epoch 23/100\n",
            "1800/1800 [==============================] - 0s 39us/step - loss: 0.3241 - accuracy: 0.9161\n",
            "Epoch 24/100\n",
            "1800/1800 [==============================] - 0s 39us/step - loss: 0.3060 - accuracy: 0.9167\n",
            "Epoch 25/100\n",
            "1800/1800 [==============================] - 0s 40us/step - loss: 0.2888 - accuracy: 0.9222\n",
            "Epoch 26/100\n",
            "1800/1800 [==============================] - 0s 44us/step - loss: 0.2737 - accuracy: 0.9267\n",
            "Epoch 27/100\n",
            "1800/1800 [==============================] - 0s 40us/step - loss: 0.2602 - accuracy: 0.9317\n",
            "Epoch 28/100\n",
            "1800/1800 [==============================] - 0s 40us/step - loss: 0.2496 - accuracy: 0.9311\n",
            "Epoch 29/100\n",
            "1800/1800 [==============================] - 0s 41us/step - loss: 0.2375 - accuracy: 0.9350\n",
            "Epoch 30/100\n",
            "1800/1800 [==============================] - 0s 40us/step - loss: 0.2268 - accuracy: 0.9367\n",
            "Epoch 31/100\n",
            "1800/1800 [==============================] - 0s 39us/step - loss: 0.2174 - accuracy: 0.9389\n",
            "Epoch 32/100\n",
            "1800/1800 [==============================] - 0s 39us/step - loss: 0.2102 - accuracy: 0.9394\n",
            "Epoch 33/100\n",
            "1800/1800 [==============================] - 0s 40us/step - loss: 0.2010 - accuracy: 0.9444\n",
            "Epoch 34/100\n",
            "1800/1800 [==============================] - 0s 44us/step - loss: 0.1927 - accuracy: 0.9478\n",
            "Epoch 35/100\n",
            "1800/1800 [==============================] - 0s 40us/step - loss: 0.1857 - accuracy: 0.9500\n",
            "Epoch 36/100\n",
            "1800/1800 [==============================] - 0s 45us/step - loss: 0.1805 - accuracy: 0.9517\n",
            "Epoch 37/100\n",
            "1800/1800 [==============================] - 0s 39us/step - loss: 0.1766 - accuracy: 0.9489\n",
            "Epoch 38/100\n",
            "1800/1800 [==============================] - 0s 40us/step - loss: 0.1697 - accuracy: 0.9533\n",
            "Epoch 39/100\n",
            "1800/1800 [==============================] - 0s 51us/step - loss: 0.1642 - accuracy: 0.9544\n",
            "Epoch 40/100\n",
            "1800/1800 [==============================] - 0s 41us/step - loss: 0.1585 - accuracy: 0.9600\n",
            "Epoch 41/100\n",
            "1800/1800 [==============================] - 0s 41us/step - loss: 0.1546 - accuracy: 0.9572\n",
            "Epoch 42/100\n",
            "1800/1800 [==============================] - 0s 39us/step - loss: 0.1501 - accuracy: 0.9611\n",
            "Epoch 43/100\n",
            "1800/1800 [==============================] - 0s 41us/step - loss: 0.1463 - accuracy: 0.9606\n",
            "Epoch 44/100\n",
            "1800/1800 [==============================] - 0s 39us/step - loss: 0.1425 - accuracy: 0.9622\n",
            "Epoch 45/100\n",
            "1800/1800 [==============================] - 0s 39us/step - loss: 0.1404 - accuracy: 0.9639\n",
            "Epoch 46/100\n",
            "1800/1800 [==============================] - 0s 39us/step - loss: 0.1358 - accuracy: 0.9644\n",
            "Epoch 47/100\n",
            "1800/1800 [==============================] - 0s 40us/step - loss: 0.1332 - accuracy: 0.9644\n",
            "Epoch 48/100\n",
            "1800/1800 [==============================] - 0s 45us/step - loss: 0.1292 - accuracy: 0.9661\n",
            "Epoch 49/100\n",
            "1800/1800 [==============================] - 0s 40us/step - loss: 0.1274 - accuracy: 0.9678\n",
            "Epoch 50/100\n",
            "1800/1800 [==============================] - 0s 40us/step - loss: 0.1248 - accuracy: 0.9667\n",
            "Epoch 51/100\n",
            "1800/1800 [==============================] - 0s 40us/step - loss: 0.1218 - accuracy: 0.9689\n",
            "Epoch 52/100\n",
            "1800/1800 [==============================] - 0s 42us/step - loss: 0.1184 - accuracy: 0.9700\n",
            "Epoch 53/100\n",
            "1800/1800 [==============================] - 0s 39us/step - loss: 0.1190 - accuracy: 0.9650\n",
            "Epoch 54/100\n",
            "1800/1800 [==============================] - 0s 44us/step - loss: 0.1158 - accuracy: 0.9689\n",
            "Epoch 55/100\n",
            "1800/1800 [==============================] - 0s 41us/step - loss: 0.1122 - accuracy: 0.9700\n",
            "Epoch 56/100\n",
            "1800/1800 [==============================] - 0s 39us/step - loss: 0.1098 - accuracy: 0.9750\n",
            "Epoch 57/100\n",
            "1800/1800 [==============================] - 0s 39us/step - loss: 0.1079 - accuracy: 0.9750\n",
            "Epoch 58/100\n",
            "1800/1800 [==============================] - 0s 39us/step - loss: 0.1053 - accuracy: 0.9778\n",
            "Epoch 59/100\n",
            "1800/1800 [==============================] - 0s 38us/step - loss: 0.1038 - accuracy: 0.9767\n",
            "Epoch 60/100\n",
            "1800/1800 [==============================] - 0s 40us/step - loss: 0.1008 - accuracy: 0.9772\n",
            "Epoch 61/100\n",
            "1800/1800 [==============================] - 0s 44us/step - loss: 0.0991 - accuracy: 0.9772\n",
            "Epoch 62/100\n",
            "1800/1800 [==============================] - 0s 41us/step - loss: 0.0972 - accuracy: 0.9789\n",
            "Epoch 63/100\n",
            "1800/1800 [==============================] - 0s 40us/step - loss: 0.0961 - accuracy: 0.9794\n",
            "Epoch 64/100\n",
            "1800/1800 [==============================] - 0s 44us/step - loss: 0.0940 - accuracy: 0.9794\n",
            "Epoch 65/100\n",
            "1800/1800 [==============================] - 0s 43us/step - loss: 0.0935 - accuracy: 0.9806\n",
            "Epoch 66/100\n",
            "1800/1800 [==============================] - 0s 40us/step - loss: 0.0910 - accuracy: 0.9811\n",
            "Epoch 67/100\n",
            "1800/1800 [==============================] - 0s 42us/step - loss: 0.0897 - accuracy: 0.9822\n",
            "Epoch 68/100\n",
            "1800/1800 [==============================] - 0s 43us/step - loss: 0.0905 - accuracy: 0.9828\n",
            "Epoch 69/100\n",
            "1800/1800 [==============================] - 0s 40us/step - loss: 0.0875 - accuracy: 0.9839\n",
            "Epoch 70/100\n",
            "1800/1800 [==============================] - 0s 40us/step - loss: 0.0844 - accuracy: 0.9844\n",
            "Epoch 71/100\n",
            "1800/1800 [==============================] - 0s 40us/step - loss: 0.0834 - accuracy: 0.9844\n",
            "Epoch 72/100\n",
            "1800/1800 [==============================] - 0s 39us/step - loss: 0.0816 - accuracy: 0.9867\n",
            "Epoch 73/100\n",
            "1800/1800 [==============================] - 0s 40us/step - loss: 0.0811 - accuracy: 0.9844\n",
            "Epoch 74/100\n",
            "1800/1800 [==============================] - 0s 45us/step - loss: 0.0791 - accuracy: 0.9833\n",
            "Epoch 75/100\n",
            "1800/1800 [==============================] - 0s 40us/step - loss: 0.0770 - accuracy: 0.9844\n",
            "Epoch 76/100\n",
            "1800/1800 [==============================] - 0s 40us/step - loss: 0.0760 - accuracy: 0.9861\n",
            "Epoch 77/100\n",
            "1800/1800 [==============================] - 0s 40us/step - loss: 0.0746 - accuracy: 0.9867\n",
            "Epoch 78/100\n",
            "1800/1800 [==============================] - 0s 41us/step - loss: 0.0753 - accuracy: 0.9822\n",
            "Epoch 79/100\n",
            "1800/1800 [==============================] - 0s 39us/step - loss: 0.0729 - accuracy: 0.9850\n",
            "Epoch 80/100\n",
            "1800/1800 [==============================] - 0s 39us/step - loss: 0.0707 - accuracy: 0.9867\n",
            "Epoch 81/100\n",
            "1800/1800 [==============================] - 0s 39us/step - loss: 0.0697 - accuracy: 0.9889\n",
            "Epoch 82/100\n",
            "1800/1800 [==============================] - 0s 40us/step - loss: 0.0686 - accuracy: 0.9883\n",
            "Epoch 83/100\n",
            "1800/1800 [==============================] - 0s 40us/step - loss: 0.0677 - accuracy: 0.9883\n",
            "Epoch 84/100\n",
            "1800/1800 [==============================] - 0s 41us/step - loss: 0.0666 - accuracy: 0.9867\n",
            "Epoch 85/100\n",
            "1800/1800 [==============================] - 0s 41us/step - loss: 0.0658 - accuracy: 0.9900\n",
            "Epoch 86/100\n",
            "1800/1800 [==============================] - 0s 39us/step - loss: 0.0645 - accuracy: 0.9883\n",
            "Epoch 87/100\n",
            "1800/1800 [==============================] - 0s 41us/step - loss: 0.0629 - accuracy: 0.9900\n",
            "Epoch 88/100\n",
            "1800/1800 [==============================] - 0s 45us/step - loss: 0.0617 - accuracy: 0.9894\n",
            "Epoch 89/100\n",
            "1800/1800 [==============================] - 0s 39us/step - loss: 0.0618 - accuracy: 0.9894\n",
            "Epoch 90/100\n",
            "1800/1800 [==============================] - 0s 39us/step - loss: 0.0604 - accuracy: 0.9894\n",
            "Epoch 91/100\n",
            "1800/1800 [==============================] - 0s 39us/step - loss: 0.0606 - accuracy: 0.9883\n",
            "Epoch 92/100\n",
            "1800/1800 [==============================] - 0s 42us/step - loss: 0.0589 - accuracy: 0.9906\n",
            "Epoch 93/100\n",
            "1800/1800 [==============================] - 0s 39us/step - loss: 0.0595 - accuracy: 0.9878\n",
            "Epoch 94/100\n",
            "1800/1800 [==============================] - 0s 40us/step - loss: 0.0568 - accuracy: 0.9911\n",
            "Epoch 95/100\n",
            "1800/1800 [==============================] - 0s 41us/step - loss: 0.0567 - accuracy: 0.9894\n",
            "Epoch 96/100\n",
            "1800/1800 [==============================] - 0s 43us/step - loss: 0.0558 - accuracy: 0.9917\n",
            "Epoch 97/100\n",
            "1800/1800 [==============================] - 0s 40us/step - loss: 0.0546 - accuracy: 0.9917\n",
            "Epoch 98/100\n",
            "1800/1800 [==============================] - 0s 39us/step - loss: 0.0556 - accuracy: 0.9883\n",
            "Epoch 99/100\n",
            "1800/1800 [==============================] - 0s 39us/step - loss: 0.0547 - accuracy: 0.9911\n",
            "Epoch 100/100\n",
            "1800/1800 [==============================] - 0s 39us/step - loss: 0.0538 - accuracy: 0.9928\n"
          ],
          "name": "stdout"
        }
      ]
    },
    {
      "cell_type": "code",
      "metadata": {
        "id": "AQ6xouh1BoeF",
        "colab_type": "code",
        "colab": {}
      },
      "source": [
        "y_pred = model.predict(x_test)"
      ],
      "execution_count": 0,
      "outputs": []
    },
    {
      "cell_type": "markdown",
      "metadata": {
        "id": "AnjlEwL2CetM",
        "colab_type": "text"
      },
      "source": [
        "## Inverse One-Hot-Encoding Process"
      ]
    },
    {
      "cell_type": "code",
      "metadata": {
        "id": "BSr5B45JCmDY",
        "colab_type": "code",
        "colab": {}
      },
      "source": [
        "#convert prediction to label \n",
        "pred = list()\n",
        "for i in range(len(y_pred)): \n",
        "  pred.append(np.argmax(y_pred[i]))\n",
        "\n",
        "#converting one hot encoded test label to label \n",
        "test = list()\n",
        "for i in range(len(y_test)): \n",
        "  test.append(np.argmax(y_test[i]))"
      ],
      "execution_count": 0,
      "outputs": []
    },
    {
      "cell_type": "code",
      "metadata": {
        "id": "SVntCCUrCrXk",
        "colab_type": "code",
        "colab": {
          "base_uri": "https://localhost:8080/",
          "height": 35
        },
        "outputId": "27920962-cca7-448d-d276-f40ae77581c2"
      },
      "source": [
        "accuracy = accuracy_score(pred,test)\n",
        "print('Accuracy Model is:', accuracy*100)"
      ],
      "execution_count": 13,
      "outputs": [
        {
          "output_type": "stream",
          "text": [
            "Accuracy Model is: 95.0\n"
          ],
          "name": "stdout"
        }
      ]
    },
    {
      "cell_type": "markdown",
      "metadata": {
        "id": "zu7hvbGREGRF",
        "colab_type": "text"
      },
      "source": [
        "## Visualize Training and Validation Losses Accuracies"
      ]
    },
    {
      "cell_type": "code",
      "metadata": {
        "id": "_eIWkKdDDe0z",
        "colab_type": "code",
        "colab": {}
      },
      "source": [
        "plt.plot(history.history['acc'])\n",
        "plt.plot(history.history['val_acc'])\n",
        "plt.title('Model accuracy')\n",
        "plt.ylabel('Accuracy')\n",
        "plt.xlabel('Epoch')\n",
        "plt.legend(['Train', 'Test'], loc='upper left')\n",
        "plt.show()"
      ],
      "execution_count": 0,
      "outputs": []
    },
    {
      "cell_type": "code",
      "metadata": {
        "id": "5In_pYlqEOKf",
        "colab_type": "code",
        "colab": {}
      },
      "source": [
        "plt.plot(history.history['loss']) plt.plot(history.history['val_loss']) \n",
        "plt.title('Model loss') \n",
        "plt.ylabel('Loss') \n",
        "plt.xlabel('Epoch') \n",
        "plt.legend(['Train', 'Test'], loc='upper left') \n",
        "plt.show()"
      ],
      "execution_count": 0,
      "outputs": []
    }
  ]
}