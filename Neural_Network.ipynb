{
  "nbformat": 4,
  "nbformat_minor": 0,
  "metadata": {
    "colab": {
      "name": "Neural-Network.ipynb",
      "provenance": [],
      "collapsed_sections": [],
      "authorship_tag": "ABX9TyN09Al77qMqz9F2gqIF+HAy",
      "include_colab_link": true
    },
    "kernelspec": {
      "name": "python3",
      "display_name": "Python 3"
    },
    "accelerator": "GPU"
  },
  "cells": [
    {
      "cell_type": "markdown",
      "metadata": {
        "id": "view-in-github",
        "colab_type": "text"
      },
      "source": [
        "<a href=\"https://colab.research.google.com/github/aqillakhamis/Deep-Learning-Practice/blob/master/Neural_Network.ipynb\" target=\"_parent\"><img src=\"https://colab.research.google.com/assets/colab-badge.svg\" alt=\"Open In Colab\"/></a>"
      ]
    },
    {
      "cell_type": "markdown",
      "metadata": {
        "id": "fbDG4a262owU",
        "colab_type": "text"
      },
      "source": [
        "#**Build Neural Network Model using Keras Framework**\n",
        "\n",
        "Mobile Price Classification"
      ]
    },
    {
      "cell_type": "markdown",
      "metadata": {
        "id": "63Ml_-3V2lO7",
        "colab_type": "text"
      },
      "source": [
        "## Import Dependent Libraries"
      ]
    },
    {
      "cell_type": "code",
      "metadata": {
        "id": "B9nq5Cx-4Z8V",
        "colab_type": "code",
        "colab": {}
      },
      "source": [
        "#Dependencies \n",
        "import numpy as np \n",
        "import pandas as pd \n",
        "import matplotlib.pyplot as plt\n",
        "\n",
        "from sklearn.preprocessing import StandardScaler, OneHotEncoder\n",
        "from sklearn.model_selection import train_test_split\n",
        "from sklearn.metrics import accuracy_score"
      ],
      "execution_count": 0,
      "outputs": []
    },
    {
      "cell_type": "markdown",
      "metadata": {
        "id": "WdXO84HG6c8_",
        "colab_type": "text"
      },
      "source": [
        "## Import Dataset"
      ]
    },
    {
      "cell_type": "code",
      "metadata": {
        "id": "28NxqNhT4f2I",
        "colab_type": "code",
        "colab": {
          "base_uri": "https://localhost:8080/",
          "height": 375
        },
        "outputId": "6092030f-eda2-4853-a327-c519840d14ec"
      },
      "source": [
        "dataset = pd.read_csv('data/train.csv')\n",
        "dataset.head(10)"
      ],
      "execution_count": 17,
      "outputs": [
        {
          "output_type": "execute_result",
          "data": {
            "text/html": [
              "<div>\n",
              "<style scoped>\n",
              "    .dataframe tbody tr th:only-of-type {\n",
              "        vertical-align: middle;\n",
              "    }\n",
              "\n",
              "    .dataframe tbody tr th {\n",
              "        vertical-align: top;\n",
              "    }\n",
              "\n",
              "    .dataframe thead th {\n",
              "        text-align: right;\n",
              "    }\n",
              "</style>\n",
              "<table border=\"1\" class=\"dataframe\">\n",
              "  <thead>\n",
              "    <tr style=\"text-align: right;\">\n",
              "      <th></th>\n",
              "      <th>battery_power</th>\n",
              "      <th>blue</th>\n",
              "      <th>clock_speed</th>\n",
              "      <th>dual_sim</th>\n",
              "      <th>fc</th>\n",
              "      <th>four_g</th>\n",
              "      <th>int_memory</th>\n",
              "      <th>m_dep</th>\n",
              "      <th>mobile_wt</th>\n",
              "      <th>n_cores</th>\n",
              "      <th>pc</th>\n",
              "      <th>px_height</th>\n",
              "      <th>px_width</th>\n",
              "      <th>ram</th>\n",
              "      <th>sc_h</th>\n",
              "      <th>sc_w</th>\n",
              "      <th>talk_time</th>\n",
              "      <th>three_g</th>\n",
              "      <th>touch_screen</th>\n",
              "      <th>wifi</th>\n",
              "      <th>price_range</th>\n",
              "    </tr>\n",
              "  </thead>\n",
              "  <tbody>\n",
              "    <tr>\n",
              "      <th>0</th>\n",
              "      <td>842</td>\n",
              "      <td>0</td>\n",
              "      <td>2.2</td>\n",
              "      <td>0</td>\n",
              "      <td>1</td>\n",
              "      <td>0</td>\n",
              "      <td>7</td>\n",
              "      <td>0.6</td>\n",
              "      <td>188</td>\n",
              "      <td>2</td>\n",
              "      <td>2</td>\n",
              "      <td>20</td>\n",
              "      <td>756</td>\n",
              "      <td>2549</td>\n",
              "      <td>9</td>\n",
              "      <td>7</td>\n",
              "      <td>19</td>\n",
              "      <td>0</td>\n",
              "      <td>0</td>\n",
              "      <td>1</td>\n",
              "      <td>1</td>\n",
              "    </tr>\n",
              "    <tr>\n",
              "      <th>1</th>\n",
              "      <td>1021</td>\n",
              "      <td>1</td>\n",
              "      <td>0.5</td>\n",
              "      <td>1</td>\n",
              "      <td>0</td>\n",
              "      <td>1</td>\n",
              "      <td>53</td>\n",
              "      <td>0.7</td>\n",
              "      <td>136</td>\n",
              "      <td>3</td>\n",
              "      <td>6</td>\n",
              "      <td>905</td>\n",
              "      <td>1988</td>\n",
              "      <td>2631</td>\n",
              "      <td>17</td>\n",
              "      <td>3</td>\n",
              "      <td>7</td>\n",
              "      <td>1</td>\n",
              "      <td>1</td>\n",
              "      <td>0</td>\n",
              "      <td>2</td>\n",
              "    </tr>\n",
              "    <tr>\n",
              "      <th>2</th>\n",
              "      <td>563</td>\n",
              "      <td>1</td>\n",
              "      <td>0.5</td>\n",
              "      <td>1</td>\n",
              "      <td>2</td>\n",
              "      <td>1</td>\n",
              "      <td>41</td>\n",
              "      <td>0.9</td>\n",
              "      <td>145</td>\n",
              "      <td>5</td>\n",
              "      <td>6</td>\n",
              "      <td>1263</td>\n",
              "      <td>1716</td>\n",
              "      <td>2603</td>\n",
              "      <td>11</td>\n",
              "      <td>2</td>\n",
              "      <td>9</td>\n",
              "      <td>1</td>\n",
              "      <td>1</td>\n",
              "      <td>0</td>\n",
              "      <td>2</td>\n",
              "    </tr>\n",
              "    <tr>\n",
              "      <th>3</th>\n",
              "      <td>615</td>\n",
              "      <td>1</td>\n",
              "      <td>2.5</td>\n",
              "      <td>0</td>\n",
              "      <td>0</td>\n",
              "      <td>0</td>\n",
              "      <td>10</td>\n",
              "      <td>0.8</td>\n",
              "      <td>131</td>\n",
              "      <td>6</td>\n",
              "      <td>9</td>\n",
              "      <td>1216</td>\n",
              "      <td>1786</td>\n",
              "      <td>2769</td>\n",
              "      <td>16</td>\n",
              "      <td>8</td>\n",
              "      <td>11</td>\n",
              "      <td>1</td>\n",
              "      <td>0</td>\n",
              "      <td>0</td>\n",
              "      <td>2</td>\n",
              "    </tr>\n",
              "    <tr>\n",
              "      <th>4</th>\n",
              "      <td>1821</td>\n",
              "      <td>1</td>\n",
              "      <td>1.2</td>\n",
              "      <td>0</td>\n",
              "      <td>13</td>\n",
              "      <td>1</td>\n",
              "      <td>44</td>\n",
              "      <td>0.6</td>\n",
              "      <td>141</td>\n",
              "      <td>2</td>\n",
              "      <td>14</td>\n",
              "      <td>1208</td>\n",
              "      <td>1212</td>\n",
              "      <td>1411</td>\n",
              "      <td>8</td>\n",
              "      <td>2</td>\n",
              "      <td>15</td>\n",
              "      <td>1</td>\n",
              "      <td>1</td>\n",
              "      <td>0</td>\n",
              "      <td>1</td>\n",
              "    </tr>\n",
              "    <tr>\n",
              "      <th>5</th>\n",
              "      <td>1859</td>\n",
              "      <td>0</td>\n",
              "      <td>0.5</td>\n",
              "      <td>1</td>\n",
              "      <td>3</td>\n",
              "      <td>0</td>\n",
              "      <td>22</td>\n",
              "      <td>0.7</td>\n",
              "      <td>164</td>\n",
              "      <td>1</td>\n",
              "      <td>7</td>\n",
              "      <td>1004</td>\n",
              "      <td>1654</td>\n",
              "      <td>1067</td>\n",
              "      <td>17</td>\n",
              "      <td>1</td>\n",
              "      <td>10</td>\n",
              "      <td>1</td>\n",
              "      <td>0</td>\n",
              "      <td>0</td>\n",
              "      <td>1</td>\n",
              "    </tr>\n",
              "    <tr>\n",
              "      <th>6</th>\n",
              "      <td>1821</td>\n",
              "      <td>0</td>\n",
              "      <td>1.7</td>\n",
              "      <td>0</td>\n",
              "      <td>4</td>\n",
              "      <td>1</td>\n",
              "      <td>10</td>\n",
              "      <td>0.8</td>\n",
              "      <td>139</td>\n",
              "      <td>8</td>\n",
              "      <td>10</td>\n",
              "      <td>381</td>\n",
              "      <td>1018</td>\n",
              "      <td>3220</td>\n",
              "      <td>13</td>\n",
              "      <td>8</td>\n",
              "      <td>18</td>\n",
              "      <td>1</td>\n",
              "      <td>0</td>\n",
              "      <td>1</td>\n",
              "      <td>3</td>\n",
              "    </tr>\n",
              "    <tr>\n",
              "      <th>7</th>\n",
              "      <td>1954</td>\n",
              "      <td>0</td>\n",
              "      <td>0.5</td>\n",
              "      <td>1</td>\n",
              "      <td>0</td>\n",
              "      <td>0</td>\n",
              "      <td>24</td>\n",
              "      <td>0.8</td>\n",
              "      <td>187</td>\n",
              "      <td>4</td>\n",
              "      <td>0</td>\n",
              "      <td>512</td>\n",
              "      <td>1149</td>\n",
              "      <td>700</td>\n",
              "      <td>16</td>\n",
              "      <td>3</td>\n",
              "      <td>5</td>\n",
              "      <td>1</td>\n",
              "      <td>1</td>\n",
              "      <td>1</td>\n",
              "      <td>0</td>\n",
              "    </tr>\n",
              "    <tr>\n",
              "      <th>8</th>\n",
              "      <td>1445</td>\n",
              "      <td>1</td>\n",
              "      <td>0.5</td>\n",
              "      <td>0</td>\n",
              "      <td>0</td>\n",
              "      <td>0</td>\n",
              "      <td>53</td>\n",
              "      <td>0.7</td>\n",
              "      <td>174</td>\n",
              "      <td>7</td>\n",
              "      <td>14</td>\n",
              "      <td>386</td>\n",
              "      <td>836</td>\n",
              "      <td>1099</td>\n",
              "      <td>17</td>\n",
              "      <td>1</td>\n",
              "      <td>20</td>\n",
              "      <td>1</td>\n",
              "      <td>0</td>\n",
              "      <td>0</td>\n",
              "      <td>0</td>\n",
              "    </tr>\n",
              "    <tr>\n",
              "      <th>9</th>\n",
              "      <td>509</td>\n",
              "      <td>1</td>\n",
              "      <td>0.6</td>\n",
              "      <td>1</td>\n",
              "      <td>2</td>\n",
              "      <td>1</td>\n",
              "      <td>9</td>\n",
              "      <td>0.1</td>\n",
              "      <td>93</td>\n",
              "      <td>5</td>\n",
              "      <td>15</td>\n",
              "      <td>1137</td>\n",
              "      <td>1224</td>\n",
              "      <td>513</td>\n",
              "      <td>19</td>\n",
              "      <td>10</td>\n",
              "      <td>12</td>\n",
              "      <td>1</td>\n",
              "      <td>0</td>\n",
              "      <td>0</td>\n",
              "      <td>0</td>\n",
              "    </tr>\n",
              "  </tbody>\n",
              "</table>\n",
              "</div>"
            ],
            "text/plain": [
              "   battery_power  blue  clock_speed  ...  touch_screen  wifi  price_range\n",
              "0            842     0          2.2  ...             0     1            1\n",
              "1           1021     1          0.5  ...             1     0            2\n",
              "2            563     1          0.5  ...             1     0            2\n",
              "3            615     1          2.5  ...             0     0            2\n",
              "4           1821     1          1.2  ...             1     0            1\n",
              "5           1859     0          0.5  ...             0     0            1\n",
              "6           1821     0          1.7  ...             0     1            3\n",
              "7           1954     0          0.5  ...             1     1            0\n",
              "8           1445     1          0.5  ...             0     0            0\n",
              "9            509     1          0.6  ...             0     0            0\n",
              "\n",
              "[10 rows x 21 columns]"
            ]
          },
          "metadata": {
            "tags": []
          },
          "execution_count": 17
        }
      ]
    },
    {
      "cell_type": "code",
      "metadata": {
        "id": "fh2s_CDB6mnP",
        "colab_type": "code",
        "colab": {}
      },
      "source": [
        "#changing dataframe to numpy array \n",
        "X = dataset.iloc[:,:20].values  # features \n",
        "Y = dataset.iloc[:,20:21].values # classes "
      ],
      "execution_count": 0,
      "outputs": []
    },
    {
      "cell_type": "markdown",
      "metadata": {
        "id": "MQzq9VXe9gBE",
        "colab_type": "text"
      },
      "source": [
        "## Pre-Processing Dataset"
      ]
    },
    {
      "cell_type": "code",
      "metadata": {
        "id": "S3j3ebv762d-",
        "colab_type": "code",
        "colab": {}
      },
      "source": [
        "#normalizing the data \n",
        "#change value of an array to a common scale, without distorting differences in the ranges of values \n",
        "sc = StandardScaler()\n",
        "X = sc.fit_transform(X)"
      ],
      "execution_count": 0,
      "outputs": []
    },
    {
      "cell_type": "code",
      "metadata": {
        "id": "SQz-kF4T7bDT",
        "colab_type": "code",
        "colab": {}
      },
      "source": [
        "#one hot encoded - convert integer classes into binary values \n",
        "#(n, number of classes) \n",
        "#n = number of samples in dataset \n",
        "\n",
        "OHE = OneHotEncoder()\n",
        "Y = OHE.fit_transform(Y).toarray()"
      ],
      "execution_count": 0,
      "outputs": []
    },
    {
      "cell_type": "markdown",
      "metadata": {
        "id": "YXDRs0nq9oXI",
        "colab_type": "text"
      },
      "source": [
        "## Split the Dataset into Training and Testing"
      ]
    },
    {
      "cell_type": "code",
      "metadata": {
        "id": "RGFkKL-48lA5",
        "colab_type": "code",
        "colab": {}
      },
      "source": [
        "#train data = 90%\n",
        "#test data = 10%\n",
        "x_train, x_test, y_train, y_test = train_test_split(X, Y, test_size=0.1)"
      ],
      "execution_count": 0,
      "outputs": []
    },
    {
      "cell_type": "markdown",
      "metadata": {
        "id": "W3tHQdu5-EhG",
        "colab_type": "text"
      },
      "source": [
        "## Building Neural Network"
      ]
    },
    {
      "cell_type": "code",
      "metadata": {
        "id": "9-j3YOgX-OHH",
        "colab_type": "code",
        "colab": {}
      },
      "source": [
        "#Dependencies \n",
        "import keras\n",
        "from keras.models import Sequential\n",
        "from keras.layers import Dense\n",
        "\n",
        "#Neural Network Model \n",
        "model = Sequential()\n",
        "model.add(Dense(16, input_dim=20, activation='relu')) #hidden layer 1 = 16 neurons\n",
        "model.add(Dense(12, activation='relu')) #hidden layer 2 = 12 neurons \n",
        "model.add(Dense(4, activation='softmax')) #output layer 4 neurons \n",
        "\n",
        "#specify loss function and optimizer \n",
        "model.compile(loss='categorical_crossentropy', optimizer='adam', metrics=['accuracy'])"
      ],
      "execution_count": 0,
      "outputs": []
    },
    {
      "cell_type": "code",
      "metadata": {
        "id": "_RMsdd6gAf04",
        "colab_type": "code",
        "colab": {
          "base_uri": "https://localhost:8080/",
          "height": 1000
        },
        "outputId": "7b99cee5-bdec-461c-f912-e81bf17f308f"
      },
      "source": [
        "history = model.fit(x_train, y_train, validation_data=(x_test,y_test), epochs=100, batch_size=64)"
      ],
      "execution_count": 23,
      "outputs": [
        {
          "output_type": "stream",
          "text": [
            "Train on 1800 samples, validate on 200 samples\n",
            "Epoch 1/100\n",
            "1800/1800 [==============================] - 0s 86us/step - loss: 1.4671 - accuracy: 0.3133 - val_loss: 1.3115 - val_accuracy: 0.4000\n",
            "Epoch 2/100\n",
            "1800/1800 [==============================] - 0s 43us/step - loss: 1.3228 - accuracy: 0.3717 - val_loss: 1.2482 - val_accuracy: 0.4200\n",
            "Epoch 3/100\n",
            "1800/1800 [==============================] - 0s 43us/step - loss: 1.2547 - accuracy: 0.4267 - val_loss: 1.1893 - val_accuracy: 0.4450\n",
            "Epoch 4/100\n",
            "1800/1800 [==============================] - 0s 43us/step - loss: 1.1877 - accuracy: 0.4744 - val_loss: 1.1209 - val_accuracy: 0.5050\n",
            "Epoch 5/100\n",
            "1800/1800 [==============================] - 0s 47us/step - loss: 1.1149 - accuracy: 0.5128 - val_loss: 1.0488 - val_accuracy: 0.5500\n",
            "Epoch 6/100\n",
            "1800/1800 [==============================] - 0s 43us/step - loss: 1.0372 - accuracy: 0.5594 - val_loss: 0.9717 - val_accuracy: 0.5850\n",
            "Epoch 7/100\n",
            "1800/1800 [==============================] - 0s 47us/step - loss: 0.9572 - accuracy: 0.5828 - val_loss: 0.8955 - val_accuracy: 0.6050\n",
            "Epoch 8/100\n",
            "1800/1800 [==============================] - 0s 44us/step - loss: 0.8789 - accuracy: 0.6261 - val_loss: 0.8242 - val_accuracy: 0.6300\n",
            "Epoch 9/100\n",
            "1800/1800 [==============================] - 0s 44us/step - loss: 0.8060 - accuracy: 0.6622 - val_loss: 0.7593 - val_accuracy: 0.6650\n",
            "Epoch 10/100\n",
            "1800/1800 [==============================] - 0s 43us/step - loss: 0.7418 - accuracy: 0.6994 - val_loss: 0.7046 - val_accuracy: 0.7050\n",
            "Epoch 11/100\n",
            "1800/1800 [==============================] - 0s 43us/step - loss: 0.6848 - accuracy: 0.7322 - val_loss: 0.6540 - val_accuracy: 0.7350\n",
            "Epoch 12/100\n",
            "1800/1800 [==============================] - 0s 44us/step - loss: 0.6341 - accuracy: 0.7622 - val_loss: 0.6066 - val_accuracy: 0.7400\n",
            "Epoch 13/100\n",
            "1800/1800 [==============================] - 0s 43us/step - loss: 0.5885 - accuracy: 0.7861 - val_loss: 0.5671 - val_accuracy: 0.7650\n",
            "Epoch 14/100\n",
            "1800/1800 [==============================] - 0s 44us/step - loss: 0.5478 - accuracy: 0.8100 - val_loss: 0.5297 - val_accuracy: 0.7900\n",
            "Epoch 15/100\n",
            "1800/1800 [==============================] - 0s 44us/step - loss: 0.5111 - accuracy: 0.8206 - val_loss: 0.5013 - val_accuracy: 0.7950\n",
            "Epoch 16/100\n",
            "1800/1800 [==============================] - 0s 43us/step - loss: 0.4774 - accuracy: 0.8433 - val_loss: 0.4722 - val_accuracy: 0.8150\n",
            "Epoch 17/100\n",
            "1800/1800 [==============================] - 0s 42us/step - loss: 0.4465 - accuracy: 0.8522 - val_loss: 0.4450 - val_accuracy: 0.8350\n",
            "Epoch 18/100\n",
            "1800/1800 [==============================] - 0s 46us/step - loss: 0.4190 - accuracy: 0.8672 - val_loss: 0.4212 - val_accuracy: 0.8450\n",
            "Epoch 19/100\n",
            "1800/1800 [==============================] - 0s 46us/step - loss: 0.3940 - accuracy: 0.8761 - val_loss: 0.3976 - val_accuracy: 0.8600\n",
            "Epoch 20/100\n",
            "1800/1800 [==============================] - 0s 45us/step - loss: 0.3724 - accuracy: 0.8856 - val_loss: 0.3787 - val_accuracy: 0.8750\n",
            "Epoch 21/100\n",
            "1800/1800 [==============================] - 0s 45us/step - loss: 0.3492 - accuracy: 0.8983 - val_loss: 0.3617 - val_accuracy: 0.8950\n",
            "Epoch 22/100\n",
            "1800/1800 [==============================] - 0s 46us/step - loss: 0.3298 - accuracy: 0.9061 - val_loss: 0.3463 - val_accuracy: 0.8800\n",
            "Epoch 23/100\n",
            "1800/1800 [==============================] - 0s 45us/step - loss: 0.3123 - accuracy: 0.9128 - val_loss: 0.3321 - val_accuracy: 0.9000\n",
            "Epoch 24/100\n",
            "1800/1800 [==============================] - 0s 44us/step - loss: 0.2954 - accuracy: 0.9183 - val_loss: 0.3191 - val_accuracy: 0.9000\n",
            "Epoch 25/100\n",
            "1800/1800 [==============================] - 0s 43us/step - loss: 0.2815 - accuracy: 0.9261 - val_loss: 0.3047 - val_accuracy: 0.8950\n",
            "Epoch 26/100\n",
            "1800/1800 [==============================] - 0s 43us/step - loss: 0.2679 - accuracy: 0.9250 - val_loss: 0.2944 - val_accuracy: 0.9000\n",
            "Epoch 27/100\n",
            "1800/1800 [==============================] - 0s 46us/step - loss: 0.2552 - accuracy: 0.9344 - val_loss: 0.2831 - val_accuracy: 0.9150\n",
            "Epoch 28/100\n",
            "1800/1800 [==============================] - 0s 43us/step - loss: 0.2424 - accuracy: 0.9361 - val_loss: 0.2752 - val_accuracy: 0.9150\n",
            "Epoch 29/100\n",
            "1800/1800 [==============================] - 0s 46us/step - loss: 0.2323 - accuracy: 0.9389 - val_loss: 0.2665 - val_accuracy: 0.9150\n",
            "Epoch 30/100\n",
            "1800/1800 [==============================] - 0s 46us/step - loss: 0.2236 - accuracy: 0.9389 - val_loss: 0.2518 - val_accuracy: 0.9100\n",
            "Epoch 31/100\n",
            "1800/1800 [==============================] - 0s 43us/step - loss: 0.2137 - accuracy: 0.9428 - val_loss: 0.2481 - val_accuracy: 0.9200\n",
            "Epoch 32/100\n",
            "1800/1800 [==============================] - 0s 46us/step - loss: 0.2054 - accuracy: 0.9444 - val_loss: 0.2391 - val_accuracy: 0.9150\n",
            "Epoch 33/100\n",
            "1800/1800 [==============================] - 0s 42us/step - loss: 0.1981 - accuracy: 0.9444 - val_loss: 0.2346 - val_accuracy: 0.9150\n",
            "Epoch 34/100\n",
            "1800/1800 [==============================] - 0s 43us/step - loss: 0.1906 - accuracy: 0.9478 - val_loss: 0.2273 - val_accuracy: 0.9200\n",
            "Epoch 35/100\n",
            "1800/1800 [==============================] - 0s 42us/step - loss: 0.1840 - accuracy: 0.9506 - val_loss: 0.2227 - val_accuracy: 0.9250\n",
            "Epoch 36/100\n",
            "1800/1800 [==============================] - 0s 43us/step - loss: 0.1780 - accuracy: 0.9550 - val_loss: 0.2170 - val_accuracy: 0.9300\n",
            "Epoch 37/100\n",
            "1800/1800 [==============================] - 0s 43us/step - loss: 0.1719 - accuracy: 0.9500 - val_loss: 0.2184 - val_accuracy: 0.9150\n",
            "Epoch 38/100\n",
            "1800/1800 [==============================] - 0s 42us/step - loss: 0.1698 - accuracy: 0.9550 - val_loss: 0.2178 - val_accuracy: 0.9250\n",
            "Epoch 39/100\n",
            "1800/1800 [==============================] - 0s 44us/step - loss: 0.1636 - accuracy: 0.9544 - val_loss: 0.2096 - val_accuracy: 0.9200\n",
            "Epoch 40/100\n",
            "1800/1800 [==============================] - 0s 42us/step - loss: 0.1565 - accuracy: 0.9578 - val_loss: 0.2074 - val_accuracy: 0.9250\n",
            "Epoch 41/100\n",
            "1800/1800 [==============================] - 0s 43us/step - loss: 0.1520 - accuracy: 0.9600 - val_loss: 0.1984 - val_accuracy: 0.9200\n",
            "Epoch 42/100\n",
            "1800/1800 [==============================] - 0s 48us/step - loss: 0.1473 - accuracy: 0.9606 - val_loss: 0.1973 - val_accuracy: 0.9250\n",
            "Epoch 43/100\n",
            "1800/1800 [==============================] - 0s 43us/step - loss: 0.1435 - accuracy: 0.9600 - val_loss: 0.1953 - val_accuracy: 0.9250\n",
            "Epoch 44/100\n",
            "1800/1800 [==============================] - 0s 47us/step - loss: 0.1387 - accuracy: 0.9656 - val_loss: 0.1969 - val_accuracy: 0.9200\n",
            "Epoch 45/100\n",
            "1800/1800 [==============================] - 0s 43us/step - loss: 0.1359 - accuracy: 0.9639 - val_loss: 0.1960 - val_accuracy: 0.9250\n",
            "Epoch 46/100\n",
            "1800/1800 [==============================] - 0s 44us/step - loss: 0.1314 - accuracy: 0.9667 - val_loss: 0.1884 - val_accuracy: 0.9200\n",
            "Epoch 47/100\n",
            "1800/1800 [==============================] - 0s 42us/step - loss: 0.1303 - accuracy: 0.9628 - val_loss: 0.1950 - val_accuracy: 0.9250\n",
            "Epoch 48/100\n",
            "1800/1800 [==============================] - 0s 43us/step - loss: 0.1265 - accuracy: 0.9678 - val_loss: 0.1917 - val_accuracy: 0.9200\n",
            "Epoch 49/100\n",
            "1800/1800 [==============================] - 0s 44us/step - loss: 0.1227 - accuracy: 0.9683 - val_loss: 0.1829 - val_accuracy: 0.9200\n",
            "Epoch 50/100\n",
            "1800/1800 [==============================] - 0s 44us/step - loss: 0.1192 - accuracy: 0.9700 - val_loss: 0.1880 - val_accuracy: 0.9250\n",
            "Epoch 51/100\n",
            "1800/1800 [==============================] - 0s 43us/step - loss: 0.1163 - accuracy: 0.9706 - val_loss: 0.1812 - val_accuracy: 0.9200\n",
            "Epoch 52/100\n",
            "1800/1800 [==============================] - 0s 46us/step - loss: 0.1135 - accuracy: 0.9717 - val_loss: 0.1763 - val_accuracy: 0.9200\n",
            "Epoch 53/100\n",
            "1800/1800 [==============================] - 0s 43us/step - loss: 0.1106 - accuracy: 0.9728 - val_loss: 0.1822 - val_accuracy: 0.9200\n",
            "Epoch 54/100\n",
            "1800/1800 [==============================] - 0s 44us/step - loss: 0.1084 - accuracy: 0.9728 - val_loss: 0.1715 - val_accuracy: 0.9200\n",
            "Epoch 55/100\n",
            "1800/1800 [==============================] - 0s 45us/step - loss: 0.1055 - accuracy: 0.9728 - val_loss: 0.1784 - val_accuracy: 0.9200\n",
            "Epoch 56/100\n",
            "1800/1800 [==============================] - 0s 42us/step - loss: 0.1029 - accuracy: 0.9756 - val_loss: 0.1723 - val_accuracy: 0.9250\n",
            "Epoch 57/100\n",
            "1800/1800 [==============================] - 0s 47us/step - loss: 0.1011 - accuracy: 0.9750 - val_loss: 0.1753 - val_accuracy: 0.9200\n",
            "Epoch 58/100\n",
            "1800/1800 [==============================] - 0s 43us/step - loss: 0.0999 - accuracy: 0.9744 - val_loss: 0.1711 - val_accuracy: 0.9150\n",
            "Epoch 59/100\n",
            "1800/1800 [==============================] - 0s 42us/step - loss: 0.0978 - accuracy: 0.9761 - val_loss: 0.1814 - val_accuracy: 0.9250\n",
            "Epoch 60/100\n",
            "1800/1800 [==============================] - 0s 43us/step - loss: 0.0975 - accuracy: 0.9778 - val_loss: 0.1777 - val_accuracy: 0.9150\n",
            "Epoch 61/100\n",
            "1800/1800 [==============================] - 0s 44us/step - loss: 0.0925 - accuracy: 0.9778 - val_loss: 0.1752 - val_accuracy: 0.9200\n",
            "Epoch 62/100\n",
            "1800/1800 [==============================] - 0s 43us/step - loss: 0.0903 - accuracy: 0.9783 - val_loss: 0.1735 - val_accuracy: 0.9200\n",
            "Epoch 63/100\n",
            "1800/1800 [==============================] - 0s 43us/step - loss: 0.0888 - accuracy: 0.9783 - val_loss: 0.1680 - val_accuracy: 0.9200\n",
            "Epoch 64/100\n",
            "1800/1800 [==============================] - 0s 43us/step - loss: 0.0864 - accuracy: 0.9811 - val_loss: 0.1691 - val_accuracy: 0.9250\n",
            "Epoch 65/100\n",
            "1800/1800 [==============================] - 0s 43us/step - loss: 0.0860 - accuracy: 0.9817 - val_loss: 0.1641 - val_accuracy: 0.9300\n",
            "Epoch 66/100\n",
            "1800/1800 [==============================] - 0s 44us/step - loss: 0.0852 - accuracy: 0.9806 - val_loss: 0.1710 - val_accuracy: 0.9100\n",
            "Epoch 67/100\n",
            "1800/1800 [==============================] - 0s 51us/step - loss: 0.0842 - accuracy: 0.9794 - val_loss: 0.1678 - val_accuracy: 0.9300\n",
            "Epoch 68/100\n",
            "1800/1800 [==============================] - 0s 42us/step - loss: 0.0807 - accuracy: 0.9828 - val_loss: 0.1677 - val_accuracy: 0.9200\n",
            "Epoch 69/100\n",
            "1800/1800 [==============================] - 0s 51us/step - loss: 0.0790 - accuracy: 0.9822 - val_loss: 0.1715 - val_accuracy: 0.9150\n",
            "Epoch 70/100\n",
            "1800/1800 [==============================] - 0s 43us/step - loss: 0.0771 - accuracy: 0.9839 - val_loss: 0.1681 - val_accuracy: 0.9200\n",
            "Epoch 71/100\n",
            "1800/1800 [==============================] - 0s 43us/step - loss: 0.0759 - accuracy: 0.9850 - val_loss: 0.1700 - val_accuracy: 0.9200\n",
            "Epoch 72/100\n",
            "1800/1800 [==============================] - 0s 44us/step - loss: 0.0740 - accuracy: 0.9867 - val_loss: 0.1654 - val_accuracy: 0.9200\n",
            "Epoch 73/100\n",
            "1800/1800 [==============================] - 0s 45us/step - loss: 0.0730 - accuracy: 0.9844 - val_loss: 0.1721 - val_accuracy: 0.9200\n",
            "Epoch 74/100\n",
            "1800/1800 [==============================] - 0s 43us/step - loss: 0.0716 - accuracy: 0.9856 - val_loss: 0.1759 - val_accuracy: 0.9150\n",
            "Epoch 75/100\n",
            "1800/1800 [==============================] - 0s 43us/step - loss: 0.0703 - accuracy: 0.9856 - val_loss: 0.1687 - val_accuracy: 0.9150\n",
            "Epoch 76/100\n",
            "1800/1800 [==============================] - 0s 42us/step - loss: 0.0690 - accuracy: 0.9856 - val_loss: 0.1730 - val_accuracy: 0.9100\n",
            "Epoch 77/100\n",
            "1800/1800 [==============================] - 0s 44us/step - loss: 0.0681 - accuracy: 0.9878 - val_loss: 0.1745 - val_accuracy: 0.9150\n",
            "Epoch 78/100\n",
            "1800/1800 [==============================] - 0s 43us/step - loss: 0.0666 - accuracy: 0.9872 - val_loss: 0.1703 - val_accuracy: 0.9150\n",
            "Epoch 79/100\n",
            "1800/1800 [==============================] - 0s 45us/step - loss: 0.0649 - accuracy: 0.9878 - val_loss: 0.1767 - val_accuracy: 0.9150\n",
            "Epoch 80/100\n",
            "1800/1800 [==============================] - 0s 44us/step - loss: 0.0650 - accuracy: 0.9889 - val_loss: 0.1740 - val_accuracy: 0.9150\n",
            "Epoch 81/100\n",
            "1800/1800 [==============================] - 0s 42us/step - loss: 0.0631 - accuracy: 0.9872 - val_loss: 0.1732 - val_accuracy: 0.9100\n",
            "Epoch 82/100\n",
            "1800/1800 [==============================] - 0s 48us/step - loss: 0.0618 - accuracy: 0.9878 - val_loss: 0.1781 - val_accuracy: 0.9200\n",
            "Epoch 83/100\n",
            "1800/1800 [==============================] - 0s 42us/step - loss: 0.0604 - accuracy: 0.9900 - val_loss: 0.1795 - val_accuracy: 0.9150\n",
            "Epoch 84/100\n",
            "1800/1800 [==============================] - 0s 43us/step - loss: 0.0607 - accuracy: 0.9889 - val_loss: 0.1772 - val_accuracy: 0.9150\n",
            "Epoch 85/100\n",
            "1800/1800 [==============================] - 0s 46us/step - loss: 0.0594 - accuracy: 0.9872 - val_loss: 0.1771 - val_accuracy: 0.9200\n",
            "Epoch 86/100\n",
            "1800/1800 [==============================] - 0s 43us/step - loss: 0.0573 - accuracy: 0.9906 - val_loss: 0.1760 - val_accuracy: 0.9150\n",
            "Epoch 87/100\n",
            "1800/1800 [==============================] - 0s 43us/step - loss: 0.0579 - accuracy: 0.9900 - val_loss: 0.1786 - val_accuracy: 0.9150\n",
            "Epoch 88/100\n",
            "1800/1800 [==============================] - 0s 44us/step - loss: 0.0557 - accuracy: 0.9889 - val_loss: 0.1862 - val_accuracy: 0.9200\n",
            "Epoch 89/100\n",
            "1800/1800 [==============================] - 0s 43us/step - loss: 0.0553 - accuracy: 0.9900 - val_loss: 0.1820 - val_accuracy: 0.9200\n",
            "Epoch 90/100\n",
            "1800/1800 [==============================] - 0s 43us/step - loss: 0.0546 - accuracy: 0.9917 - val_loss: 0.1815 - val_accuracy: 0.9200\n",
            "Epoch 91/100\n",
            "1800/1800 [==============================] - 0s 43us/step - loss: 0.0548 - accuracy: 0.9878 - val_loss: 0.1790 - val_accuracy: 0.9200\n",
            "Epoch 92/100\n",
            "1800/1800 [==============================] - 0s 45us/step - loss: 0.0534 - accuracy: 0.9917 - val_loss: 0.1945 - val_accuracy: 0.9150\n",
            "Epoch 93/100\n",
            "1800/1800 [==============================] - 0s 44us/step - loss: 0.0516 - accuracy: 0.9911 - val_loss: 0.1795 - val_accuracy: 0.9200\n",
            "Epoch 94/100\n",
            "1800/1800 [==============================] - 0s 47us/step - loss: 0.0502 - accuracy: 0.9922 - val_loss: 0.1870 - val_accuracy: 0.9200\n",
            "Epoch 95/100\n",
            "1800/1800 [==============================] - 0s 43us/step - loss: 0.0512 - accuracy: 0.9922 - val_loss: 0.1765 - val_accuracy: 0.9250\n",
            "Epoch 96/100\n",
            "1800/1800 [==============================] - 0s 42us/step - loss: 0.0496 - accuracy: 0.9911 - val_loss: 0.1843 - val_accuracy: 0.9200\n",
            "Epoch 97/100\n",
            "1800/1800 [==============================] - 0s 43us/step - loss: 0.0482 - accuracy: 0.9928 - val_loss: 0.1822 - val_accuracy: 0.9200\n",
            "Epoch 98/100\n",
            "1800/1800 [==============================] - 0s 44us/step - loss: 0.0472 - accuracy: 0.9928 - val_loss: 0.1877 - val_accuracy: 0.9200\n",
            "Epoch 99/100\n",
            "1800/1800 [==============================] - 0s 44us/step - loss: 0.0467 - accuracy: 0.9939 - val_loss: 0.1877 - val_accuracy: 0.9150\n",
            "Epoch 100/100\n",
            "1800/1800 [==============================] - 0s 44us/step - loss: 0.0448 - accuracy: 0.9933 - val_loss: 0.1926 - val_accuracy: 0.9150\n"
          ],
          "name": "stdout"
        }
      ]
    },
    {
      "cell_type": "code",
      "metadata": {
        "id": "AQ6xouh1BoeF",
        "colab_type": "code",
        "colab": {}
      },
      "source": [
        "y_pred = model.predict(x_test)"
      ],
      "execution_count": 0,
      "outputs": []
    },
    {
      "cell_type": "markdown",
      "metadata": {
        "id": "AnjlEwL2CetM",
        "colab_type": "text"
      },
      "source": [
        "## Inverse One-Hot-Encoding Process"
      ]
    },
    {
      "cell_type": "code",
      "metadata": {
        "id": "BSr5B45JCmDY",
        "colab_type": "code",
        "colab": {}
      },
      "source": [
        "#convert prediction to label \n",
        "pred = list()\n",
        "for i in range(len(y_pred)): \n",
        "  pred.append(np.argmax(y_pred[i]))\n",
        "\n",
        "#converting one hot encoded test label to label \n",
        "test = list()\n",
        "for i in range(len(y_test)): \n",
        "  test.append(np.argmax(y_test[i]))"
      ],
      "execution_count": 0,
      "outputs": []
    },
    {
      "cell_type": "code",
      "metadata": {
        "id": "SVntCCUrCrXk",
        "colab_type": "code",
        "colab": {
          "base_uri": "https://localhost:8080/",
          "height": 35
        },
        "outputId": "f4a25f5e-3f6b-4b28-c3d1-8bfadb2c671e"
      },
      "source": [
        "accuracy = accuracy_score(pred,test)\n",
        "print('Accuracy Model is:', accuracy*100)"
      ],
      "execution_count": 26,
      "outputs": [
        {
          "output_type": "stream",
          "text": [
            "Accuracy Model is: 91.5\n"
          ],
          "name": "stdout"
        }
      ]
    },
    {
      "cell_type": "markdown",
      "metadata": {
        "id": "zu7hvbGREGRF",
        "colab_type": "text"
      },
      "source": [
        "## Visualize Training and Validation Losses Accuracies"
      ]
    },
    {
      "cell_type": "code",
      "metadata": {
        "id": "_eIWkKdDDe0z",
        "colab_type": "code",
        "colab": {
          "base_uri": "https://localhost:8080/",
          "height": 295
        },
        "outputId": "a5aca365-b8de-492e-a617-fc8c44fd4c01"
      },
      "source": [
        "plt.plot(history.history['accuracy'])\n",
        "plt.plot(history.history['val_accuracy'])\n",
        "plt.title('Model accuracy')\n",
        "plt.ylabel('Accuracy')\n",
        "plt.xlabel('Epoch')\n",
        "plt.legend(['Train', 'Test'], loc='upper left')\n",
        "plt.show()"
      ],
      "execution_count": 29,
      "outputs": [
        {
          "output_type": "display_data",
          "data": {
            "image/png": "[encoded data removed]",
            "text/plain": [
              "<Figure size 432x288 with 1 Axes>"
            ]
          },
          "metadata": {
            "tags": [],
            "needs_background": "light"
          }
        }
      ]
    },
    {
      "cell_type": "code",
      "metadata": {
        "id": "5In_pYlqEOKf",
        "colab_type": "code",
        "colab": {
          "base_uri": "https://localhost:8080/",
          "height": 295
        },
        "outputId": "eec87b15-7b4b-4374-bbea-cb40fb6a9014"
      },
      "source": [
        "plt.plot(history.history['loss']) \n",
        "plt.plot(history.history['val_loss']) \n",
        "plt.title('Model loss') \n",
        "plt.ylabel('Loss') \n",
        "plt.xlabel('Epoch') \n",
        "plt.legend(['Train', 'Test'], loc='upper left') \n",
        "plt.show()"
      ],
      "execution_count": 31,
      "outputs": [
        {
          "output_type": "display_data",
          "data": {
            "image/png": "[encoded data removed]",
            "text/plain": [
              "<Figure size 432x288 with 1 Axes>"
            ]
          },
          "metadata": {
            "tags": [],
            "needs_background": "light"
          }
        }
      ]
    },
    {
      "cell_type": "code",
      "metadata": {
        "id": "56dYKLGXFr-p",
        "colab_type": "code",
        "colab": {}
      },
      "source": [
        ""
      ],
      "execution_count": 0,
      "outputs": []
    }
  ]
}