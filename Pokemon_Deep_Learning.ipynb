{
  "nbformat": 4,
  "nbformat_minor": 0,
  "metadata": {
    "colab": {
      "name": "Pokemon | Logistic Regression.ipynb",
      "provenance": []
    },
    "kernelspec": {
      "name": "python3",
      "display_name": "Python 3"
    },
    "accelerator": "GPU"
  },
  "cells": [
    {
      "cell_type": "code",
      "metadata": {
        "id": "Weio0ovgq5WR",
        "colab_type": "code",
        "colab": {}
      },
      "source": [
        "#import required packages \n",
        "import numpy as np\n",
        "import pandas as pd\n",
        "import matplotlib.pyplot as plt\n",
        "\n",
        "from sklearn.preprocessing import MinMaxScaler, OneHotEncoder\n",
        "from sklearn.model_selection import train_test_split\n",
        "from sklearn.metrics import accuracy_score"
      ],
      "execution_count": 0,
      "outputs": []
    },
    {
      "cell_type": "code",
      "metadata": {
        "id": "tGcFMK8crQhT",
        "colab_type": "code",
        "outputId": "d4b726c1-ecf2-4434-efd7-2689dff33b4c",
        "colab": {
          "base_uri": "https://localhost:8080/",
          "height": 219
        }
      },
      "source": [
        "#load the dataset \n",
        "url = 'https://raw.githubusercontent.com/aqillakhamis/Pokemon-Log-Reg/master/pokemonTransform.csv'\n",
        "data = pd.read_csv(url)\n",
        "data.head()"
      ],
      "execution_count": 2,
      "outputs": [
        {
          "output_type": "execute_result",
          "data": {
            "text/html": [
              "<div>\n",
              "<style scoped>\n",
              "    .dataframe tbody tr th:only-of-type {\n",
              "        vertical-align: middle;\n",
              "    }\n",
              "\n",
              "    .dataframe tbody tr th {\n",
              "        vertical-align: top;\n",
              "    }\n",
              "\n",
              "    .dataframe thead th {\n",
              "        text-align: right;\n",
              "    }\n",
              "</style>\n",
              "<table border=\"1\" class=\"dataframe\">\n",
              "  <thead>\n",
              "    <tr style=\"text-align: right;\">\n",
              "      <th></th>\n",
              "      <th>Type 1</th>\n",
              "      <th>Total</th>\n",
              "      <th>HP</th>\n",
              "      <th>Attack</th>\n",
              "      <th>Defense</th>\n",
              "      <th>Sp.Atk</th>\n",
              "      <th>Sp.Def</th>\n",
              "      <th>Speed</th>\n",
              "      <th>Generation</th>\n",
              "      <th>Legendary</th>\n",
              "    </tr>\n",
              "  </thead>\n",
              "  <tbody>\n",
              "    <tr>\n",
              "      <th>0</th>\n",
              "      <td>6</td>\n",
              "      <td>318</td>\n",
              "      <td>45</td>\n",
              "      <td>49</td>\n",
              "      <td>49</td>\n",
              "      <td>65</td>\n",
              "      <td>65</td>\n",
              "      <td>45</td>\n",
              "      <td>1</td>\n",
              "      <td>0</td>\n",
              "    </tr>\n",
              "    <tr>\n",
              "      <th>1</th>\n",
              "      <td>6</td>\n",
              "      <td>405</td>\n",
              "      <td>60</td>\n",
              "      <td>62</td>\n",
              "      <td>63</td>\n",
              "      <td>80</td>\n",
              "      <td>80</td>\n",
              "      <td>60</td>\n",
              "      <td>1</td>\n",
              "      <td>0</td>\n",
              "    </tr>\n",
              "    <tr>\n",
              "      <th>2</th>\n",
              "      <td>6</td>\n",
              "      <td>525</td>\n",
              "      <td>80</td>\n",
              "      <td>82</td>\n",
              "      <td>83</td>\n",
              "      <td>100</td>\n",
              "      <td>100</td>\n",
              "      <td>80</td>\n",
              "      <td>1</td>\n",
              "      <td>0</td>\n",
              "    </tr>\n",
              "    <tr>\n",
              "      <th>3</th>\n",
              "      <td>6</td>\n",
              "      <td>625</td>\n",
              "      <td>80</td>\n",
              "      <td>100</td>\n",
              "      <td>123</td>\n",
              "      <td>122</td>\n",
              "      <td>120</td>\n",
              "      <td>80</td>\n",
              "      <td>1</td>\n",
              "      <td>0</td>\n",
              "    </tr>\n",
              "    <tr>\n",
              "      <th>4</th>\n",
              "      <td>5</td>\n",
              "      <td>309</td>\n",
              "      <td>39</td>\n",
              "      <td>52</td>\n",
              "      <td>43</td>\n",
              "      <td>60</td>\n",
              "      <td>50</td>\n",
              "      <td>65</td>\n",
              "      <td>1</td>\n",
              "      <td>0</td>\n",
              "    </tr>\n",
              "  </tbody>\n",
              "</table>\n",
              "</div>"
            ],
            "text/plain": [
              "   Type 1  Total  HP  Attack  ...  Sp.Def  Speed  Generation  Legendary\n",
              "0       6    318  45      49  ...      65     45           1          0\n",
              "1       6    405  60      62  ...      80     60           1          0\n",
              "2       6    525  80      82  ...     100     80           1          0\n",
              "3       6    625  80     100  ...     120     80           1          0\n",
              "4       5    309  39      52  ...      50     65           1          0\n",
              "\n",
              "[5 rows x 10 columns]"
            ]
          },
          "metadata": {
            "tags": []
          },
          "execution_count": 2
        }
      ]
    },
    {
      "cell_type": "code",
      "metadata": {
        "id": "rYuiS9YeEf8P",
        "colab_type": "code",
        "colab": {}
      },
      "source": [
        "#changing dataframe to numpy array \n",
        "X = data.iloc[:,0:9]\n",
        "Y = data['Legendary']"
      ],
      "execution_count": 0,
      "outputs": []
    },
    {
      "cell_type": "code",
      "metadata": {
        "id": "3PzA8csUTI5H",
        "colab_type": "code",
        "colab": {}
      },
      "source": [
        "sc = MinMaxScaler()\n",
        "X = sc.fit_transform(X)"
      ],
      "execution_count": 0,
      "outputs": []
    },
    {
      "cell_type": "code",
      "metadata": {
        "id": "AwPrcD6PTV7q",
        "colab_type": "code",
        "colab": {
          "base_uri": "https://localhost:8080/",
          "height": 243
        },
        "outputId": "9f264003-d629-49a9-f936-bdfeb2186046"
      },
      "source": [
        "X"
      ],
      "execution_count": 5,
      "outputs": [
        {
          "output_type": "execute_result",
          "data": {
            "text/plain": [
              "array([[0.35294118, 0.23      , 0.17322835, ..., 0.21428571, 0.22857143,\n",
              "        0.        ],\n",
              "       [0.35294118, 0.375     , 0.23228346, ..., 0.28571429, 0.31428571,\n",
              "        0.        ],\n",
              "       [0.35294118, 0.575     , 0.31102362, ..., 0.38095238, 0.42857143,\n",
              "        0.        ],\n",
              "       ...,\n",
              "       [0.47058824, 0.7       , 0.31102362, ..., 0.52380952, 0.37142857,\n",
              "        1.        ],\n",
              "       [0.47058824, 0.83333333, 0.31102362, ..., 0.52380952, 0.42857143,\n",
              "        1.        ],\n",
              "       [0.29411765, 0.7       , 0.31102362, ..., 0.33333333, 0.37142857,\n",
              "        1.        ]])"
            ]
          },
          "metadata": {
            "tags": []
          },
          "execution_count": 5
        }
      ]
    },
    {
      "cell_type": "code",
      "metadata": {
        "id": "PdWxed53JwwR",
        "colab_type": "code",
        "colab": {}
      },
      "source": [
        "#split the dataset into training and testing \n",
        "x_train, x_test, y_train, y_test = train_test_split(X, Y, test_size=0.1)"
      ],
      "execution_count": 0,
      "outputs": []
    },
    {
      "cell_type": "code",
      "metadata": {
        "id": "xRWxvzHxKRl-",
        "colab_type": "code",
        "colab": {}
      },
      "source": [
        "#build neural network using keras framework \n",
        "import keras \n",
        "from keras.models import Sequential \n",
        "from keras.layers import Dense\n",
        "\n",
        "#Neural Network Model \n",
        "model = Sequential()\n",
        "model.add(Dense(5, input_dim=9, activation='relu')) #hidden layer 1 = 5 neurons \n",
        "model.add(Dense(1, activation='relu')) #output layer 1 neurons \n",
        "\n",
        "#specify loss function and optimizer \n",
        "model.compile(loss='binary_crossentropy', optimizer='adam', metrics=['accuracy'])"
      ],
      "execution_count": 0,
      "outputs": []
    },
    {
      "cell_type": "code",
      "metadata": {
        "id": "L4Wd3dTlLS1G",
        "colab_type": "code",
        "colab": {
          "base_uri": "https://localhost:8080/",
          "height": 1000
        },
        "outputId": "a6848715-62f8-4532-fea3-4c357fafc873"
      },
      "source": [
        "history = model.fit(x_train, y_train, epochs=100)"
      ],
      "execution_count": 12,
      "outputs": [
        {
          "output_type": "stream",
          "text": [
            "Epoch 1/100\n",
            "720/720 [==============================] - 0s 182us/step - loss: 1.2598 - accuracy: 0.9181\n",
            "Epoch 2/100\n",
            "720/720 [==============================] - 0s 82us/step - loss: 1.2770 - accuracy: 0.9181\n",
            "Epoch 3/100\n",
            "720/720 [==============================] - 0s 91us/step - loss: 1.2686 - accuracy: 0.9181\n",
            "Epoch 4/100\n",
            "720/720 [==============================] - 0s 83us/step - loss: 1.2658 - accuracy: 0.9181\n",
            "Epoch 5/100\n",
            "720/720 [==============================] - 0s 88us/step - loss: 1.2649 - accuracy: 0.9181\n",
            "Epoch 6/100\n",
            "720/720 [==============================] - 0s 83us/step - loss: 1.2646 - accuracy: 0.9181\n",
            "Epoch 7/100\n",
            "720/720 [==============================] - 0s 83us/step - loss: 1.2645 - accuracy: 0.9181\n",
            "Epoch 8/100\n",
            "720/720 [==============================] - 0s 81us/step - loss: 1.2643 - accuracy: 0.9181\n",
            "Epoch 9/100\n",
            "720/720 [==============================] - 0s 90us/step - loss: 1.2643 - accuracy: 0.9181\n",
            "Epoch 10/100\n",
            "720/720 [==============================] - 0s 86us/step - loss: 1.2642 - accuracy: 0.9181\n",
            "Epoch 11/100\n",
            "720/720 [==============================] - 0s 82us/step - loss: 1.2641 - accuracy: 0.9181\n",
            "Epoch 12/100\n",
            "720/720 [==============================] - 0s 82us/step - loss: 1.2641 - accuracy: 0.9181\n",
            "Epoch 13/100\n",
            "720/720 [==============================] - 0s 81us/step - loss: 1.2640 - accuracy: 0.9181\n",
            "Epoch 14/100\n",
            "720/720 [==============================] - 0s 80us/step - loss: 1.2640 - accuracy: 0.9181\n",
            "Epoch 15/100\n",
            "720/720 [==============================] - 0s 84us/step - loss: 1.2640 - accuracy: 0.9181\n",
            "Epoch 16/100\n",
            "720/720 [==============================] - 0s 82us/step - loss: 1.2640 - accuracy: 0.9181\n",
            "Epoch 17/100\n",
            "720/720 [==============================] - 0s 81us/step - loss: 1.2640 - accuracy: 0.9181\n",
            "Epoch 18/100\n",
            "720/720 [==============================] - 0s 81us/step - loss: 1.2640 - accuracy: 0.9181\n",
            "Epoch 19/100\n",
            "720/720 [==============================] - 0s 93us/step - loss: 1.2640 - accuracy: 0.9181\n",
            "Epoch 20/100\n",
            "720/720 [==============================] - 0s 78us/step - loss: 1.2640 - accuracy: 0.9181\n",
            "Epoch 21/100\n",
            "720/720 [==============================] - 0s 88us/step - loss: 1.2640 - accuracy: 0.9181\n",
            "Epoch 22/100\n",
            "720/720 [==============================] - 0s 88us/step - loss: 1.2640 - accuracy: 0.9181\n",
            "Epoch 23/100\n",
            "720/720 [==============================] - 0s 84us/step - loss: 1.2640 - accuracy: 0.9181\n",
            "Epoch 24/100\n",
            "720/720 [==============================] - 0s 84us/step - loss: 1.2640 - accuracy: 0.9181\n",
            "Epoch 25/100\n",
            "720/720 [==============================] - 0s 87us/step - loss: 1.2640 - accuracy: 0.9181\n",
            "Epoch 26/100\n",
            "720/720 [==============================] - 0s 88us/step - loss: 1.2640 - accuracy: 0.9181\n",
            "Epoch 27/100\n",
            "720/720 [==============================] - 0s 84us/step - loss: 1.2640 - accuracy: 0.9181\n",
            "Epoch 28/100\n",
            "720/720 [==============================] - 0s 80us/step - loss: 1.2640 - accuracy: 0.9181\n",
            "Epoch 29/100\n",
            "720/720 [==============================] - 0s 85us/step - loss: 1.2640 - accuracy: 0.9181\n",
            "Epoch 30/100\n",
            "720/720 [==============================] - 0s 77us/step - loss: 1.2640 - accuracy: 0.9181\n",
            "Epoch 31/100\n",
            "720/720 [==============================] - 0s 82us/step - loss: 1.2640 - accuracy: 0.9181\n",
            "Epoch 32/100\n",
            "720/720 [==============================] - 0s 89us/step - loss: 1.2640 - accuracy: 0.9181\n",
            "Epoch 33/100\n",
            "720/720 [==============================] - 0s 75us/step - loss: 1.2640 - accuracy: 0.9181\n",
            "Epoch 34/100\n",
            "720/720 [==============================] - 0s 73us/step - loss: 1.2640 - accuracy: 0.9181\n",
            "Epoch 35/100\n",
            "720/720 [==============================] - 0s 89us/step - loss: 1.2640 - accuracy: 0.9181\n",
            "Epoch 36/100\n",
            "720/720 [==============================] - 0s 83us/step - loss: 1.2640 - accuracy: 0.9181\n",
            "Epoch 37/100\n",
            "720/720 [==============================] - 0s 84us/step - loss: 1.2640 - accuracy: 0.9181\n",
            "Epoch 38/100\n",
            "720/720 [==============================] - 0s 85us/step - loss: 1.2640 - accuracy: 0.9181\n",
            "Epoch 39/100\n",
            "720/720 [==============================] - 0s 81us/step - loss: 1.2640 - accuracy: 0.9181\n",
            "Epoch 40/100\n",
            "720/720 [==============================] - 0s 88us/step - loss: 1.2640 - accuracy: 0.9181\n",
            "Epoch 41/100\n",
            "720/720 [==============================] - 0s 87us/step - loss: 1.2640 - accuracy: 0.9181\n",
            "Epoch 42/100\n",
            "720/720 [==============================] - 0s 103us/step - loss: 1.2640 - accuracy: 0.9181\n",
            "Epoch 43/100\n",
            "720/720 [==============================] - 0s 86us/step - loss: 1.2640 - accuracy: 0.9181\n",
            "Epoch 44/100\n",
            "720/720 [==============================] - 0s 83us/step - loss: 1.2640 - accuracy: 0.9181\n",
            "Epoch 45/100\n",
            "720/720 [==============================] - 0s 87us/step - loss: 1.2640 - accuracy: 0.9181\n",
            "Epoch 46/100\n",
            "720/720 [==============================] - 0s 88us/step - loss: 1.2640 - accuracy: 0.9181\n",
            "Epoch 47/100\n",
            "720/720 [==============================] - 0s 110us/step - loss: 1.2640 - accuracy: 0.9181\n",
            "Epoch 48/100\n",
            "720/720 [==============================] - 0s 85us/step - loss: 1.2640 - accuracy: 0.9181\n",
            "Epoch 49/100\n",
            "720/720 [==============================] - 0s 83us/step - loss: 1.2640 - accuracy: 0.9181\n",
            "Epoch 50/100\n",
            "720/720 [==============================] - 0s 96us/step - loss: 1.2640 - accuracy: 0.9181\n",
            "Epoch 51/100\n",
            "720/720 [==============================] - 0s 92us/step - loss: 1.2640 - accuracy: 0.9181\n",
            "Epoch 52/100\n",
            "720/720 [==============================] - 0s 86us/step - loss: 1.2640 - accuracy: 0.9181\n",
            "Epoch 53/100\n",
            "720/720 [==============================] - 0s 95us/step - loss: 1.2640 - accuracy: 0.9181\n",
            "Epoch 54/100\n",
            "720/720 [==============================] - 0s 90us/step - loss: 1.2640 - accuracy: 0.9181\n",
            "Epoch 55/100\n",
            "720/720 [==============================] - 0s 81us/step - loss: 1.2640 - accuracy: 0.9181\n",
            "Epoch 56/100\n",
            "720/720 [==============================] - 0s 85us/step - loss: 1.2640 - accuracy: 0.9181\n",
            "Epoch 57/100\n",
            "720/720 [==============================] - 0s 98us/step - loss: 1.2640 - accuracy: 0.9181\n",
            "Epoch 58/100\n",
            "720/720 [==============================] - 0s 86us/step - loss: 1.2640 - accuracy: 0.9181\n",
            "Epoch 59/100\n",
            "720/720 [==============================] - 0s 81us/step - loss: 1.2640 - accuracy: 0.9181\n",
            "Epoch 60/100\n",
            "720/720 [==============================] - 0s 84us/step - loss: 1.2640 - accuracy: 0.9181\n",
            "Epoch 61/100\n",
            "720/720 [==============================] - 0s 83us/step - loss: 1.2640 - accuracy: 0.9181\n",
            "Epoch 62/100\n",
            "720/720 [==============================] - 0s 87us/step - loss: 1.2640 - accuracy: 0.9181\n",
            "Epoch 63/100\n",
            "720/720 [==============================] - 0s 83us/step - loss: 1.2640 - accuracy: 0.9181\n",
            "Epoch 64/100\n",
            "720/720 [==============================] - 0s 81us/step - loss: 1.2640 - accuracy: 0.9181\n",
            "Epoch 65/100\n",
            "720/720 [==============================] - 0s 95us/step - loss: 1.2640 - accuracy: 0.9181\n",
            "Epoch 66/100\n",
            "720/720 [==============================] - 0s 90us/step - loss: 1.2640 - accuracy: 0.9181\n",
            "Epoch 67/100\n",
            "720/720 [==============================] - 0s 86us/step - loss: 1.2640 - accuracy: 0.9181\n",
            "Epoch 68/100\n",
            "720/720 [==============================] - 0s 90us/step - loss: 1.2640 - accuracy: 0.9181\n",
            "Epoch 69/100\n",
            "720/720 [==============================] - 0s 91us/step - loss: 1.2640 - accuracy: 0.9181\n",
            "Epoch 70/100\n",
            "720/720 [==============================] - 0s 85us/step - loss: 1.2640 - accuracy: 0.9181\n",
            "Epoch 71/100\n",
            "720/720 [==============================] - 0s 91us/step - loss: 1.2640 - accuracy: 0.9181\n",
            "Epoch 72/100\n",
            "720/720 [==============================] - 0s 103us/step - loss: 1.2640 - accuracy: 0.9181\n",
            "Epoch 73/100\n",
            "720/720 [==============================] - 0s 87us/step - loss: 1.2640 - accuracy: 0.9181\n",
            "Epoch 74/100\n",
            "720/720 [==============================] - 0s 88us/step - loss: 1.2640 - accuracy: 0.9181\n",
            "Epoch 75/100\n",
            "720/720 [==============================] - 0s 83us/step - loss: 1.2640 - accuracy: 0.9181\n",
            "Epoch 76/100\n",
            "720/720 [==============================] - 0s 77us/step - loss: 1.2640 - accuracy: 0.9181\n",
            "Epoch 77/100\n",
            "720/720 [==============================] - 0s 83us/step - loss: 1.2640 - accuracy: 0.9181\n",
            "Epoch 78/100\n",
            "720/720 [==============================] - 0s 82us/step - loss: 1.2640 - accuracy: 0.9181\n",
            "Epoch 79/100\n",
            "720/720 [==============================] - 0s 76us/step - loss: 1.2640 - accuracy: 0.9181\n",
            "Epoch 80/100\n",
            "720/720 [==============================] - 0s 84us/step - loss: 1.2640 - accuracy: 0.9181\n",
            "Epoch 81/100\n",
            "720/720 [==============================] - 0s 93us/step - loss: 1.2640 - accuracy: 0.9181\n",
            "Epoch 82/100\n",
            "720/720 [==============================] - 0s 78us/step - loss: 1.2640 - accuracy: 0.9181\n",
            "Epoch 83/100\n",
            "720/720 [==============================] - 0s 72us/step - loss: 1.2640 - accuracy: 0.9181\n",
            "Epoch 84/100\n",
            "720/720 [==============================] - 0s 76us/step - loss: 1.2640 - accuracy: 0.9181\n",
            "Epoch 85/100\n",
            "720/720 [==============================] - 0s 81us/step - loss: 1.2640 - accuracy: 0.9181\n",
            "Epoch 86/100\n",
            "720/720 [==============================] - 0s 92us/step - loss: 1.2640 - accuracy: 0.9181\n",
            "Epoch 87/100\n",
            "720/720 [==============================] - 0s 82us/step - loss: 1.2640 - accuracy: 0.9181\n",
            "Epoch 88/100\n",
            "720/720 [==============================] - 0s 76us/step - loss: 1.2640 - accuracy: 0.9181\n",
            "Epoch 89/100\n",
            "720/720 [==============================] - 0s 93us/step - loss: 1.2640 - accuracy: 0.9181\n",
            "Epoch 90/100\n",
            "720/720 [==============================] - 0s 83us/step - loss: 1.2640 - accuracy: 0.9181\n",
            "Epoch 91/100\n",
            "720/720 [==============================] - 0s 85us/step - loss: 1.2640 - accuracy: 0.9181\n",
            "Epoch 92/100\n",
            "720/720 [==============================] - 0s 96us/step - loss: 1.2640 - accuracy: 0.9181\n",
            "Epoch 93/100\n",
            "720/720 [==============================] - 0s 86us/step - loss: 1.2640 - accuracy: 0.9181\n",
            "Epoch 94/100\n",
            "720/720 [==============================] - 0s 85us/step - loss: 1.2640 - accuracy: 0.9181\n",
            "Epoch 95/100\n",
            "720/720 [==============================] - 0s 83us/step - loss: 1.2640 - accuracy: 0.9181\n",
            "Epoch 96/100\n",
            "720/720 [==============================] - 0s 78us/step - loss: 1.2640 - accuracy: 0.9181\n",
            "Epoch 97/100\n",
            "720/720 [==============================] - 0s 99us/step - loss: 1.2640 - accuracy: 0.9181\n",
            "Epoch 98/100\n",
            "720/720 [==============================] - 0s 79us/step - loss: 1.2640 - accuracy: 0.9181\n",
            "Epoch 99/100\n",
            "720/720 [==============================] - 0s 85us/step - loss: 1.2640 - accuracy: 0.9181\n",
            "Epoch 100/100\n",
            "720/720 [==============================] - 0s 83us/step - loss: 1.2640 - accuracy: 0.9181\n"
          ],
          "name": "stdout"
        }
      ]
    },
    {
      "cell_type": "code",
      "metadata": {
        "id": "3ZDKKyHiVgnz",
        "colab_type": "code",
        "colab": {}
      },
      "source": [
        "y_pred = model.predict(x_test)"
      ],
      "execution_count": 0,
      "outputs": []
    },
    {
      "cell_type": "code",
      "metadata": {
        "id": "v3HsqrOvSXyv",
        "colab_type": "code",
        "colab": {
          "base_uri": "https://localhost:8080/",
          "height": 35
        },
        "outputId": "f0bdad52-8bcf-4dd0-b9d2-d1a30227267c"
      },
      "source": [
        "accuracy = accuracy_score(y_pred, y_test)\n",
        "print('Accuracy Model is:', accuracy*100)"
      ],
      "execution_count": 15,
      "outputs": [
        {
          "output_type": "stream",
          "text": [
            "Accuracy Model is: 92.5\n"
          ],
          "name": "stdout"
        }
      ]
    },
    {
      "cell_type": "code",
      "metadata": {
        "id": "-v7zXZ5fVeCZ",
        "colab_type": "code",
        "colab": {}
      },
      "source": [
        ""
      ],
      "execution_count": 0,
      "outputs": []
    }
  ]
}